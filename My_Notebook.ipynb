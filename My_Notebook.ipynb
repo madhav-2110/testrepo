{
 "cells": [
  {
   "cell_type": "code",
   "execution_count": 1,
   "id": "08dd4399-b5a2-41fa-b0c4-ecc3598c411c",
   "metadata": {},
   "outputs": [
    {
     "data": {
      "text/plain": [
       "2"
      ]
     },
     "execution_count": 1,
     "metadata": {},
     "output_type": "execute_result"
    }
   ],
   "source": [
    "1+1"
   ]
  },
  {
   "cell_type": "code",
   "execution_count": 2,
   "id": "7e8dc43a-ebf2-4d4f-a95e-a1cb690b4d5f",
   "metadata": {},
   "outputs": [
    {
     "name": "stdout",
     "output_type": "stream",
     "text": [
      "hello world\n"
     ]
    }
   ],
   "source": [
    "print(\"hello world\")"
   ]
  },
  {
   "cell_type": "code",
   "execution_count": 3,
   "id": "92e22530-ee30-4136-bcf8-e51932b7058a",
   "metadata": {},
   "outputs": [
    {
     "name": "stdout",
     "output_type": "stream",
     "text": [
      "372.88000000000005\n"
     ]
    }
   ],
   "source": [
    "x=63.2\n",
    "y=5.9\n",
    "print(x*y)"
   ]
  },
  {
   "cell_type": "code",
   "execution_count": 4,
   "id": "ef629249-d444-4739-b7b5-6992f88c9f46",
   "metadata": {},
   "outputs": [
    {
     "data": {
      "text/plain": [
       "10.711864406779661"
      ]
     },
     "execution_count": 4,
     "metadata": {},
     "output_type": "execute_result"
    }
   ],
   "source": [
    "x/y"
   ]
  },
  {
   "cell_type": "code",
   "execution_count": 5,
   "id": "7a2726f5-3396-4194-a9ee-779653a059d1",
   "metadata": {},
   "outputs": [
    {
     "data": {
      "text/plain": [
       "69.10000000000001"
      ]
     },
     "execution_count": 5,
     "metadata": {},
     "output_type": "execute_result"
    }
   ],
   "source": [
    "x+y"
   ]
  },
  {
   "cell_type": "code",
   "execution_count": 7,
   "id": "a75999fe-3c09-443a-a3d6-1833ee069301",
   "metadata": {},
   "outputs": [
    {
     "data": {
      "text/plain": [
       "float"
      ]
     },
     "execution_count": 7,
     "metadata": {},
     "output_type": "execute_result"
    }
   ],
   "source": [
    "type(x+y)"
   ]
  },
  {
   "cell_type": "markdown",
   "id": "91e891c5-311f-48b5-80b4-d079f5bfd267",
   "metadata": {},
   "source": [
    "# My Title"
   ]
  },
  {
   "cell_type": "code",
   "execution_count": null,
   "id": "c9c155dd-80f0-47e2-bcc0-cde3ddf1154a",
   "metadata": {},
   "outputs": [],
   "source": []
  }
 ],
 "metadata": {
  "kernelspec": {
   "display_name": "Python",
   "language": "python",
   "name": "conda-env-python-py"
  },
  "language_info": {
   "codemirror_mode": {
    "name": "ipython",
    "version": 3
   },
   "file_extension": ".py",
   "mimetype": "text/x-python",
   "name": "python",
   "nbconvert_exporter": "python",
   "pygments_lexer": "ipython3",
   "version": "3.7.12"
  }
 },
 "nbformat": 4,
 "nbformat_minor": 5
}
